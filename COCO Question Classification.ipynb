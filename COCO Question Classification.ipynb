{
 "cells": [
  {
   "cell_type": "code",
   "execution_count": 1,
   "metadata": {},
   "outputs": [],
   "source": [
    "import numpy as np\n",
    "import re, random"
   ]
  },
  {
   "cell_type": "markdown",
   "metadata": {},
   "source": [
    "# Read Dataset with Questions and their Labels\n",
    "Here, the training and testing sets are read into memory and combined. This way it is possible to decide on a training, validation and test set manually by selecting a subsection of the data (In our case 5% for validation and 10% for testing, but we will do this later). Also, to fix the problem of overly large samples (outliers) we can cap the length of the samples used to a maximum of 96 characters."
   ]
  },
  {
   "cell_type": "code",
   "execution_count": 2,
   "metadata": {},
   "outputs": [
    {
     "name": "stdout",
     "output_type": "stream",
     "text": [
      "In total 117684 questions found\n"
     ]
    }
   ],
   "source": [
    "def read_data(paths=['cocoqa/train', 'cocoqa/test']):\n",
    "    questions, labels = [], []\n",
    "    for path in paths:\n",
    "        with open(path+'/questions.txt', 'r') as f:\n",
    "            for line in f.readlines():\n",
    "                line = re.sub('[^A-Za-z0-9\\!\\,\\.\\?\\$\\&\\s]', '', line)\n",
    "                questions.append(line.strip())\n",
    "        with open(path+'/types.txt', 'r') as f:\n",
    "            for line in f.readlines():\n",
    "                labels.append(int(line.strip()))\n",
    "    return questions, labels\n",
    "            \n",
    "X, Y = read_data()\n",
    "print('In total', len(X), 'questions found')"
   ]
  },
  {
   "cell_type": "code",
   "execution_count": 3,
   "metadata": {},
   "outputs": [],
   "source": [
    "# shuffle dataset\n",
    "Z = list(zip(X, Y))\n",
    "random.shuffle(Z)\n",
    "X, Y = zip(*Z)"
   ]
  },
  {
   "cell_type": "code",
   "execution_count": 4,
   "metadata": {},
   "outputs": [
    {
     "name": "stdout",
     "output_type": "stream",
     "text": [
      "Reduced to 116990 questions\n",
      "\n"
     ]
    }
   ],
   "source": [
    "# remove samples that are very long (i.e. longer than 96 characters)\n",
    "max_len = 96\n",
    "X, Y = zip(*[(x, y) for x,y in zip(X, Y) if len(x) <= max_len])\n",
    "print('Reduced to', len(X), 'questions\\n')"
   ]
  },
  {
   "cell_type": "code",
   "execution_count": 5,
   "metadata": {},
   "outputs": [
    {
     "name": "stdout",
     "output_type": "stream",
     "text": [
      "Reduced to 28988 questions\n",
      "\n"
     ]
    }
   ],
   "source": [
    "# balance dataset\n",
    "count = min([Y.count(y) for y in set(Y)])\n",
    "label_counts = {y:count for y in set(Y)}\n",
    "X2, Y2 = [], []\n",
    "for x, y in zip(X, Y):\n",
    "    if label_counts[y] > 0:\n",
    "        X2.append(x)\n",
    "        Y2.append(y)\n",
    "        label_counts[y] -= 1\n",
    "X, Y = X2, Y2\n",
    "\n",
    "print('Reduced to', len(X), 'questions\\n')"
   ]
  },
  {
   "cell_type": "code",
   "execution_count": 6,
   "metadata": {},
   "outputs": [
    {
     "name": "stdout",
     "output_type": "stream",
     "text": [
      "2   what is the color of the piece\n",
      "0   what did the whole freshly make in a restaurant\n",
      "2   what is the color of the birds\n",
      "0   what and two bananas next to each other\n",
      "0   what filled with meat , vegetables and broth\n",
      "0   what is laying down in the field\n",
      "0   what is sitting above a building\n",
      "0   what is traveling down tracks surrounded by forest\n",
      "2   what is the color of the dog\n",
      "0   glazed what coming off a conveyor belt after being reviewed by workers\n",
      "0   what is the black man taking\n",
      "0   what is shown on the side walk\n",
      "0   what looks shiny clean and nice\n",
      "0   what is being flown in a public park\n",
      "3   where is the worker checking her phone\n",
      "2   what is the color of the jacket\n",
      "2   what is the color of the appliances\n",
      "0   what were there sitting in boxes on top of our stove\n",
      "0   wooden what on bricked area near shrubs\n",
      "0   what is in the sky as several are parked on a runway\n"
     ]
    }
   ],
   "source": [
    "for x, y in zip(X[:20], Y[:20]):\n",
    "    print(y, ' ', x)"
   ]
  },
  {
   "cell_type": "markdown",
   "metadata": {},
   "source": [
    "# Make Characters Categorical\n",
    "We cannot insert a string into a neural network. Therefore, the string is converted to a matrix of (vocab_size, question_length). To this end, it is necessary to determine the character vocabulary and a mapping from character to integer index."
   ]
  },
  {
   "cell_type": "code",
   "execution_count": 7,
   "metadata": {},
   "outputs": [
    {
     "name": "stdout",
     "output_type": "stream",
     "text": [
      "{'j': 26, 'e': 7, 'c': 8, 'h': 1, 'k': 17, '9': 34, '!': 41, '4': 35, 'i': 5, '2': 32, 'r': 11, '7': 38, '$': 39, 'q': 27, 'x': 21, '8': 40, 'g': 24, ' ': 4, 'a': 2, '.': 29, 'u': 19, '1': 33, 's': 6, 'z': 25, 'b': 20, 'l': 10, '0': 31, 'm': 16, 'y': 15, 'o': 9, 'p': 13, 'v': 23, 'w': 0, 'd': 14, '6': 36, 't': 3, ',': 22, 'n': 18, '&': 37, '5': 30, 'f': 12, '3': 28} \n",
      "\n",
      "{0: 'object', 1: 'number', 2: 'color', 3: 'location'}\n"
     ]
    }
   ],
   "source": [
    "char2int, int2char = dict(), dict()\n",
    "for question in X:\n",
    "    for ch in question:\n",
    "        if ch not in char2int:\n",
    "            n = len(char2int)\n",
    "            char2int[ch] = n\n",
    "            int2char[n] = ch\n",
    "print(char2int, '\\n')\n",
    "\n",
    "int2labels = {0:'object', 1:'number', 2:'color', 3:'location'}\n",
    "print(int2labels)"
   ]
  },
  {
   "cell_type": "code",
   "execution_count": 8,
   "metadata": {},
   "outputs": [],
   "source": [
    "def to_categorical(questions, labels):\n",
    "    X = np.zeros((len(questions), max_len, len(char2int)), dtype=np.uint8)\n",
    "    Y = np.zeros((len(questions), len(int2labels)), dtype=np.uint8)\n",
    "    for i, question in enumerate(questions):\n",
    "        for j, ch in enumerate(question):\n",
    "            k = char2int[ch]\n",
    "            X[i][j][k] = 1\n",
    "    for i, l in enumerate(labels):\n",
    "        Y[i][l] = 1\n",
    "    return X, Y\n",
    "\n",
    "X, Y = to_categorical(X, Y)"
   ]
  },
  {
   "cell_type": "code",
   "execution_count": 9,
   "metadata": {},
   "outputs": [
    {
     "name": "stdout",
     "output_type": "stream",
     "text": [
      "Training shapes: (24641, 96, 42) (24641, 4)\n",
      "Validation shapes: (1449, 96, 42) (1449, 4)\n",
      "Testing shapes: (2898, 96, 42) (2898, 4)\n"
     ]
    }
   ],
   "source": [
    "k = int(X.shape[0]*0.05)\n",
    "trainX, trainY = X[:-3*k], Y[:-3*k]\n",
    "validX, validY = X[-3*k:-2*k], Y[-3*k:-2*k]\n",
    "testX, testY = X[-2*k:], Y[-2*k:]\n",
    "\n",
    "print('Training shapes:', trainX.shape, trainY.shape) # 85%\n",
    "print('Validation shapes:', validX.shape, validY.shape) # 5%\n",
    "print('Testing shapes:', testX.shape, testY.shape) # 10%"
   ]
  },
  {
   "cell_type": "markdown",
   "metadata": {},
   "source": [
    "# Train Model"
   ]
  },
  {
   "cell_type": "code",
   "execution_count": 10,
   "metadata": {},
   "outputs": [
    {
     "name": "stderr",
     "output_type": "stream",
     "text": [
      "Using TensorFlow backend.\n"
     ]
    }
   ],
   "source": [
    "import keras\n",
    "from keras.models import Sequential\n",
    "from keras.layers import Dense, Flatten\n",
    "from keras.optimizers import RMSprop"
   ]
  },
  {
   "cell_type": "code",
   "execution_count": 11,
   "metadata": {},
   "outputs": [
    {
     "name": "stdout",
     "output_type": "stream",
     "text": [
      "_________________________________________________________________\n",
      "Layer (type)                 Output Shape              Param #   \n",
      "=================================================================\n",
      "flatten_1 (Flatten)          (None, 4032)              0         \n",
      "_________________________________________________________________\n",
      "dense_1 (Dense)              (None, 4)                 16132     \n",
      "=================================================================\n",
      "Total params: 16,132\n",
      "Trainable params: 16,132\n",
      "Non-trainable params: 0\n",
      "_________________________________________________________________\n",
      "Train on 24641 samples, validate on 1449 samples\n",
      "Epoch 1/5\n",
      "24641/24641 [==============================] - 5s 217us/step - loss: 0.3922 - acc: 0.9605 - val_loss: 0.0883 - val_acc: 0.9890\n",
      "Epoch 2/5\n",
      "24641/24641 [==============================] - 5s 185us/step - loss: 0.0484 - acc: 0.9916 - val_loss: 0.0347 - val_acc: 0.9890\n",
      "Epoch 3/5\n",
      "24641/24641 [==============================] - 5s 186us/step - loss: 0.0287 - acc: 0.9916 - val_loss: 0.0295 - val_acc: 0.9890\n",
      "Epoch 4/5\n",
      "24641/24641 [==============================] - 5s 184us/step - loss: 0.0257 - acc: 0.9917 - val_loss: 0.0296 - val_acc: 0.9890\n",
      "Epoch 5/5\n",
      "24641/24641 [==============================] - 5s 191us/step - loss: 0.0255 - acc: 0.9916 - val_loss: 0.0305 - val_acc: 0.9890\n"
     ]
    },
    {
     "data": {
      "text/plain": [
       "<keras.callbacks.History at 0x7f0ced883390>"
      ]
     },
     "execution_count": 11,
     "metadata": {},
     "output_type": "execute_result"
    }
   ],
   "source": [
    "# simple model without hidden layers!\n",
    "model = Sequential()\n",
    "model.add(Flatten(input_shape=trainX.shape[1:]))\n",
    "model.add(Dense(4, activation='softmax'))\n",
    "model.summary()\n",
    "\n",
    "model.compile(loss='categorical_crossentropy', optimizer=RMSprop(lr=1e-4), metrics=['accuracy'])\n",
    "model.fit(trainX, trainY, validation_data=(validX, validY), epochs=5, batch_size=8)"
   ]
  },
  {
   "cell_type": "code",
   "execution_count": 12,
   "metadata": {},
   "outputs": [
    {
     "name": "stdout",
     "output_type": "stream",
     "text": [
      "Accuracy = 0.9875776397515528\n"
     ]
    }
   ],
   "source": [
    "correct = 0\n",
    "for pred, y in zip(model.predict(testX), testY):\n",
    "    correct += (np.argmax(pred) == np.argmax(y))\n",
    "print('Accuracy = {}'.format(correct / testY.shape[0]))"
   ]
  },
  {
   "cell_type": "markdown",
   "metadata": {},
   "source": [
    "# Manual Testing"
   ]
  },
  {
   "cell_type": "code",
   "execution_count": 18,
   "metadata": {},
   "outputs": [
    {
     "name": "stdout",
     "output_type": "stream",
     "text": [
      "where is amsterdam -> location\n",
      "how many dogs are there -> number\n",
      "what is a dog -> object\n",
      "what is the color of a dog -> color\n"
     ]
    }
   ],
   "source": [
    "def predict_answer_type(query):\n",
    "    inputs = np.zeros((1, max_len, len(char2int)), dtype=np.uint8)\n",
    "    for i, ch in enumerate(query):\n",
    "        inputs[0][i][char2int[ch]] = 1\n",
    "\n",
    "    pred = np.argmax(model.predict(inputs))\n",
    "    print(query, '->', int2labels[pred])\n",
    "    \n",
    "predict_answer_type('where is amsterdam')\n",
    "predict_answer_type('how many dogs are there')\n",
    "predict_answer_type('what is a dog')\n",
    "predict_answer_type('what is the color of a dog')"
   ]
  }
 ],
 "metadata": {
  "kernelspec": {
   "display_name": "Python 3",
   "language": "python",
   "name": "python3"
  },
  "language_info": {
   "codemirror_mode": {
    "name": "ipython",
    "version": 3
   },
   "file_extension": ".py",
   "mimetype": "text/x-python",
   "name": "python",
   "nbconvert_exporter": "python",
   "pygments_lexer": "ipython3",
   "version": "3.5.2"
  }
 },
 "nbformat": 4,
 "nbformat_minor": 2
}
